{
 "cells": [
  {
   "cell_type": "markdown",
   "metadata": {},
   "source": [
    "### Import the required packages"
   ]
  },
  {
   "cell_type": "code",
   "execution_count": null,
   "metadata": {
    "collapsed": true
   },
   "outputs": [],
   "source": [
    "from selenium import webdriver\n",
    "import requests\n",
    "import json\n",
    "import re\n",
    "from lxml import html\n",
    "# from pymongo import MongoClient\n",
    "import unicodedata\n",
    "import pandas as pd\n",
    "from selenium.webdriver.support.ui import WebDriverWait\n",
    "from selenium.webdriver.support import expected_conditions as EC\n",
    "from selenium.common.exceptions import TimeoutException"
   ]
  },
  {
   "cell_type": "code",
   "execution_count": 1,
   "metadata": {},
   "outputs": [
    {
     "name": "stdout",
     "output_type": "stream",
     "text": [
      "['Agriculture (7)', 'Alimentation (6)', 'Assurance/Banque/Finance (6)', 'Automobile (7)', 'Chimie (2)', 'Commerce/Grande distribution (9)', 'Communication/Information/Marketing (10)', 'Construction/Immobilier (21)', 'Energie (9)', 'Export/Import/Trading (17)', 'Hotellerie/Restauration/Tourisme (8)', 'IT (7)', 'Logistique/Transport (16)', 'Phamarcie/Sante (7)', 'Ports (9)', 'Securite (5)', 'Services a la personne (8)', 'Services aux entreprises (27)', 'Textile (1)']\n"
     ]
    }
   ],
   "source": [
    "### Create a webdriver object pointing to the downloaded chromedriver program\n",
    "driver = webdriver.Chrome(r'C:\\Users\\<your-path>\\chromedriver.exe')\n",
    "\n",
    "### URL to be scraped\n",
    "urls='http://www.ccbci.net/annuaire.php'\n",
    "\n",
    "### Get the webpage using request and extract the document tree from the content\n",
    "response=requests.get(urls)\n",
    "tree=html.fromstring(response.content)\n",
    "\n",
    "### Extract all the categories available in the dropdown list using xpath selector\n",
    "cats=tree.xpath(\"//option/text()\")\n",
    "\n",
    "cats=cats[1:]\n",
    "print(cats)"
   ]
  },
  {
   "cell_type": "markdown",
   "metadata": {},
   "source": [
    "### Extract the required fields"
   ]
  },
  {
   "cell_type": "code",
   "execution_count": null,
   "metadata": {
    "scrolled": true
   },
   "outputs": [],
   "source": [
    "### Go to the URL\n",
    "driver.get(\"http://www.ccbci.net/annuaire.php\")\n",
    "\n",
    "### Iterate through all the categories\n",
    "for i in cats:\n",
    "    \n",
    "    ### Wait till the required element loads and click\n",
    "    WebDriverWait(driver, 10).until(lambda x: x.find_element_by_xpath(\"//select/option[contains(text(),'\"+i+\"')]\")).click()\n",
    "    \n",
    "    ### Extract company name using the xpath\n",
    "    company_name=[i.get_attribute(\"alt\") for i in WebDriverWait(driver, 10).until(lambda x: x.find_elements_by_xpath(\"//div/img\"))]\n",
    "    \n",
    "    print(company_name)"
   ]
  },
  {
   "cell_type": "code",
   "execution_count": null,
   "metadata": {
    "collapsed": true
   },
   "outputs": [],
   "source": []
  }
 ],
 "metadata": {
  "kernelspec": {
   "display_name": "Python 3",
   "language": "python",
   "name": "python3"
  },
  "language_info": {
   "codemirror_mode": {
    "name": "ipython",
    "version": 3
   },
   "file_extension": ".py",
   "mimetype": "text/x-python",
   "name": "python",
   "nbconvert_exporter": "python",
   "pygments_lexer": "ipython3",
   "version": "3.8.5"
  }
 },
 "nbformat": 4,
 "nbformat_minor": 2
}
