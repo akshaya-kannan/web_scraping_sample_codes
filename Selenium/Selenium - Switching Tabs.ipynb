{
 "cells": [
  {
   "cell_type": "code",
   "execution_count": 29,
   "metadata": {
    "collapsed": true
   },
   "outputs": [],
   "source": [
    "from selenium import webdriver\n",
    "import tldextract\n",
    "import pandas as pd, requests, time\n",
    "from selenium.webdriver.common.keys import Keys"
   ]
  },
  {
   "cell_type": "code",
   "execution_count": null,
   "metadata": {
    "collapsed": true
   },
   "outputs": [],
   "source": [
    "options = webdriver.ChromeOptions()\n",
    "options.add_argument(\"--start-maximized\")\n",
    "prefs = {\"profile.default_content_settings.popups\": 0,\n",
    "         \"download.default_directory\": r\"C:\\<your-path-to-save-files>\\\\\", # IMPORTANT - ENDING SLASH V IMPORTANT\n",
    "         \"directory_upgrade\": True}"
   ]
  },
  {
   "cell_type": "markdown",
   "metadata": {},
   "source": [
    "### Method 2"
   ]
  },
  {
   "cell_type": "code",
   "execution_count": 22,
   "metadata": {},
   "outputs": [
    {
     "data": {
      "text/plain": [
       "[]"
      ]
     },
     "execution_count": 22,
     "metadata": {},
     "output_type": "execute_result"
    }
   ],
   "source": [
    "driver = webdriver.Chrome(executable_path='D:\\chromedriver.exe')\n",
    "assoc_urls = []\n",
    "for i in range(0,67): #67\n",
    "    driver.get('https://www.indiabrazilchamber.org/associados-e-parceiros')\n",
    "    iframe = driver.find_element_by_xpath(\"//iframe[@class='tpa-gallery-Masonry style-jxex9khfiframe']\")\n",
    "    driver.execute_script(\"arguments[0].scrollIntoView();\", iframe)\n",
    "    driver.switch_to.frame(iframe)\n",
    "    time.sleep(5)\n",
    "    e = driver.find_elements_by_xpath(\"//div[@class='item']\")[i]\n",
    "#     print(e)\n",
    "    try:\n",
    "        time.sleep(1)\n",
    "        e.click()\n",
    "        driver.switch_to.window(driver.window_handles[1])\n",
    "        urls.append(driver.current_url)\n",
    "        driver.close()\n",
    "        driver.switch_to.window(driver.window_handles[0])\n",
    "        iframe = driver.find_element_by_xpath(\"//iframe[@class='tpa-gallery-Masonry style-jxex9khfiframe']\")\n",
    "        driver.execute_script(\"arguments[0].scrollIntoView();\", iframe)\n",
    "    except:\n",
    "        pass\n",
    "    \n",
    "assoc_urls"
   ]
  },
  {
   "cell_type": "code",
   "execution_count": 24,
   "metadata": {},
   "outputs": [],
   "source": [
    "assoc_urls = urls"
   ]
  },
  {
   "cell_type": "code",
   "execution_count": 28,
   "metadata": {},
   "outputs": [],
   "source": [
    "assoc_urls = assoc_urls[2:]"
   ]
  },
  {
   "cell_type": "code",
   "execution_count": 30,
   "metadata": {
    "collapsed": true
   },
   "outputs": [],
   "source": [
    "assoc_name = []\n",
    "for a in assoc_urls:\n",
    "    assoc_name.append(tldextract.extract(a).domain)"
   ]
  },
  {
   "cell_type": "code",
   "execution_count": 33,
   "metadata": {},
   "outputs": [],
   "source": [
    "pd.DataFrame(assoc_name).to_csv(\"assoc_name.csv\", index=False)"
   ]
  },
  {
   "cell_type": "code",
   "execution_count": 34,
   "metadata": {
    "collapsed": true
   },
   "outputs": [],
   "source": [
    "pd.DataFrame(assoc_urls).to_csv(\"assoc_urls.csv\", index=False)"
   ]
  },
  {
   "cell_type": "markdown",
   "metadata": {},
   "source": [
    "### Partners"
   ]
  },
  {
   "cell_type": "code",
   "execution_count": 39,
   "metadata": {
    "collapsed": true
   },
   "outputs": [
    {
     "data": {
      "text/plain": [
       "[<selenium.webdriver.remote.webelement.WebElement (session=\"3172308721459f18aa437784cf49b2ca\", element=\"a8878e1c-21e7-4fb6-be47-093c11a4da55\")>,\n",
       " <selenium.webdriver.remote.webelement.WebElement (session=\"3172308721459f18aa437784cf49b2ca\", element=\"6e563e5f-f342-4fc3-b606-69188857976f\")>,\n",
       " <selenium.webdriver.remote.webelement.WebElement (session=\"3172308721459f18aa437784cf49b2ca\", element=\"732be1bb-d60a-4df0-82ba-e8dc0f270a06\")>,\n",
       " <selenium.webdriver.remote.webelement.WebElement (session=\"3172308721459f18aa437784cf49b2ca\", element=\"9931d238-bcf4-4c3c-82d0-3950b5f95c0b\")>,\n",
       " <selenium.webdriver.remote.webelement.WebElement (session=\"3172308721459f18aa437784cf49b2ca\", element=\"149fdd91-daf5-45a7-94e2-89ec74376759\")>,\n",
       " <selenium.webdriver.remote.webelement.WebElement (session=\"3172308721459f18aa437784cf49b2ca\", element=\"d8d5cc30-2919-4ef3-803b-004839ab8a05\")>,\n",
       " <selenium.webdriver.remote.webelement.WebElement (session=\"3172308721459f18aa437784cf49b2ca\", element=\"0effa7ac-d682-4000-90ac-dec17728ecdb\")>,\n",
       " <selenium.webdriver.remote.webelement.WebElement (session=\"3172308721459f18aa437784cf49b2ca\", element=\"00979340-cdfc-4cf9-b1f4-864d402fc914\")>,\n",
       " <selenium.webdriver.remote.webelement.WebElement (session=\"3172308721459f18aa437784cf49b2ca\", element=\"49386df9-2c76-4381-a2b3-d960434cc5d8\")>,\n",
       " <selenium.webdriver.remote.webelement.WebElement (session=\"3172308721459f18aa437784cf49b2ca\", element=\"8d28007b-a780-4030-9fdf-d17066346b73\")>,\n",
       " <selenium.webdriver.remote.webelement.WebElement (session=\"3172308721459f18aa437784cf49b2ca\", element=\"3a2a07f3-f9b9-4cbc-bb08-217316028ad4\")>,\n",
       " <selenium.webdriver.remote.webelement.WebElement (session=\"3172308721459f18aa437784cf49b2ca\", element=\"7edffdb7-56e4-4b2c-8332-82075b232f5b\")>,\n",
       " <selenium.webdriver.remote.webelement.WebElement (session=\"3172308721459f18aa437784cf49b2ca\", element=\"7c87a575-b4e3-49e0-a05b-a3e4c91fd7ef\")>,\n",
       " <selenium.webdriver.remote.webelement.WebElement (session=\"3172308721459f18aa437784cf49b2ca\", element=\"af311524-eafe-4cfe-96ec-51ad75167847\")>,\n",
       " <selenium.webdriver.remote.webelement.WebElement (session=\"3172308721459f18aa437784cf49b2ca\", element=\"493b4067-e0ae-4a79-8b49-5917c7423bf2\")>,\n",
       " <selenium.webdriver.remote.webelement.WebElement (session=\"3172308721459f18aa437784cf49b2ca\", element=\"7e3c3adf-32e1-4a45-8fff-9562822cc002\")>,\n",
       " <selenium.webdriver.remote.webelement.WebElement (session=\"3172308721459f18aa437784cf49b2ca\", element=\"1e7a71c6-949e-49c6-aebd-5b1aece65f41\")>,\n",
       " <selenium.webdriver.remote.webelement.WebElement (session=\"3172308721459f18aa437784cf49b2ca\", element=\"a1884b6b-b09b-434d-84dd-1af1a12ba46a\")>,\n",
       " <selenium.webdriver.remote.webelement.WebElement (session=\"3172308721459f18aa437784cf49b2ca\", element=\"4ca1deea-38ea-43a0-861c-6004c11e984d\")>,\n",
       " <selenium.webdriver.remote.webelement.WebElement (session=\"3172308721459f18aa437784cf49b2ca\", element=\"3b558c08-e644-41c4-872e-4b739a09ec15\")>,\n",
       " <selenium.webdriver.remote.webelement.WebElement (session=\"3172308721459f18aa437784cf49b2ca\", element=\"bc857a17-e5e1-4361-b035-877d7d8f7bb3\")>,\n",
       " <selenium.webdriver.remote.webelement.WebElement (session=\"3172308721459f18aa437784cf49b2ca\", element=\"8d891dd3-69a6-4eea-9b70-46a0b780805c\")>,\n",
       " <selenium.webdriver.remote.webelement.WebElement (session=\"3172308721459f18aa437784cf49b2ca\", element=\"47a7fb49-8940-46ee-a264-d3bd775cf253\")>]"
      ]
     },
     "execution_count": 39,
     "metadata": {},
     "output_type": "execute_result"
    }
   ],
   "source": [
    "driver = webdriver.Chrome(executable_path='D:\\chromedriver.exe')\n",
    "driver.get('https://www.indiabrazilchamber.org/associados-e-parceiros')\n",
    "driver.find_elements_by_xpath(\"//div[@class='gallery-item-container visible clickable']\")"
   ]
  },
  {
   "cell_type": "code",
   "execution_count": 40,
   "metadata": {
    "collapsed": true
   },
   "outputs": [
    {
     "data": {
      "text/plain": [
       "['http://www.eoibrasilia.gov.in/',\n",
       " 'http://www.indiaconsulatemg.org/',\n",
       " 'https://www.facebook.com/IndianConsulateGeneralRiodeJaneiro/',\n",
       " 'http://ficci.in/',\n",
       " 'https://www.cii.in/',\n",
       " 'https://www.tpci.in/',\n",
       " 'https://www.yesbank.in/',\n",
       " 'https://www.fdc.org.br/',\n",
       " 'https://www.escindia.in/',\n",
       " 'https://www.indiabrazilchamber.org/associados-e-parceiros',\n",
       " 'https://www.apdbrasil.org.br/',\n",
       " 'https://www.internacionalizabh.com.br/',\n",
       " 'https://www.acminas.com.br/',\n",
       " 'https://www.ecell.in/2018/',\n",
       " 'https://portal.apexbrasil.com.br/',\n",
       " 'http://www.argilando.org/',\n",
       " 'https://www.peind.org/',\n",
       " 'https://www.investindia.gov.in/',\n",
       " 'https://pharmexcil.com/',\n",
       " 'http://sgcompliance.net/']"
      ]
     },
     "execution_count": 40,
     "metadata": {},
     "output_type": "execute_result"
    }
   ],
   "source": [
    "driver = webdriver.Chrome(executable_path='D:\\chromedriver.exe')\n",
    "partner_urls = []\n",
    "for i in range(0,23): #23\n",
    "    driver.get('https://www.indiabrazilchamber.org/associados-e-parceiros')\n",
    "    time.sleep(5)\n",
    "    e = driver.find_elements_by_xpath(\"//div[@class='gallery-item-container visible clickable']\")[i]\n",
    "#     print(e)\n",
    "    try:\n",
    "        time.sleep(1)\n",
    "        e.click()\n",
    "        driver.switch_to.window(driver.window_handles[1])\n",
    "        partner_urls.append(driver.current_url)\n",
    "        driver.close()\n",
    "        driver.switch_to.window(driver.window_handles[0])\n",
    "    except:\n",
    "        pass\n",
    "    \n",
    "partner_urls"
   ]
  },
  {
   "cell_type": "code",
   "execution_count": 41,
   "metadata": {
    "collapsed": true
   },
   "outputs": [],
   "source": [
    "partner_names = []\n",
    "for p in partner_urls:\n",
    "    partner_names.append(tldextract.extract(p).domain)\n",
    "    \n",
    "pd.DataFrame(partner_names).to_csv(\"partner_names.csv\", index=False)\n",
    "\n",
    "pd.DataFrame(partner_urls).to_csv(\"partner_urls.csv\", index=False)"
   ]
  },
  {
   "cell_type": "markdown",
   "metadata": {},
   "source": [
    "### Method 1"
   ]
  },
  {
   "cell_type": "code",
   "execution_count": 17,
   "metadata": {
    "collapsed": true
   },
   "outputs": [],
   "source": [
    "driver = webdriver.Chrome(executable_path='D:\\chromedriver.exe')\n",
    "driver.get('https://www.indiabrazilchamber.org/associados-e-parceiros')\n",
    "\n",
    "iframe = driver.find_element_by_xpath(\"//iframe[@class='tpa-gallery-Masonry style-jxex9khfiframe']\")\n",
    "driver.execute_script(\"arguments[0].scrollIntoView();\", iframe)\n",
    "driver.switch_to.frame(iframe)\n",
    "time.sleep(5)\n",
    "\n",
    "ele = driver.find_elements_by_xpath(\"//div[@class='item']\")"
   ]
  },
  {
   "cell_type": "code",
   "execution_count": 19,
   "metadata": {},
   "outputs": [
    {
     "data": {
      "text/plain": [
       "<selenium.webdriver.remote.webelement.WebElement (session=\"d5095eaa733d5102b33359ad41279236\", element=\"7ef0fa8d-e7da-405f-8f1d-106a6e5526e8\")>"
      ]
     },
     "execution_count": 19,
     "metadata": {},
     "output_type": "execute_result"
    }
   ],
   "source": [
    "ele[0]"
   ]
  },
  {
   "cell_type": "code",
   "execution_count": 12,
   "metadata": {},
   "outputs": [],
   "source": [
    "driver = webdriver.Chrome(executable_path='D:\\chromedriver.exe')\n",
    "driver.get('https://www.indiabrazilchamber.org/associados-e-parceiros')\n",
    "\n",
    "iframe = driver.find_element_by_xpath(\"//iframe[@class='tpa-gallery-Masonry style-jxex9khfiframe']\")\n",
    "driver.execute_script(\"arguments[0].scrollIntoView();\", iframe)\n",
    "driver.switch_to.frame(iframe)\n",
    "time.sleep(5)\n",
    "\n",
    "ele = driver.find_elements_by_xpath(\"//div[@class='item']\")\n",
    "\n",
    "urls = []\n",
    "for e in ele[:5]:\n",
    "    print(e)\n",
    "    try:\n",
    "        time.sleep(1)\n",
    "        e.click()\n",
    "        driver.switch_to.window(driver.window_handles[1])\n",
    "        urls.append(driver.current_url)\n",
    "        driver.close()\n",
    "        driver.switch_to.window(driver.window_handles[0])\n",
    "        iframe = driver.find_element_by_xpath(\"//iframe[@class='tpa-gallery-Masonry style-jxex9khfiframe']\")\n",
    "        driver.execute_script(\"arguments[0].scrollIntoView();\", iframe)\n",
    "\n",
    "    except:\n",
    "        pass\n",
    "driver.close()"
   ]
  }
 ],
 "metadata": {
  "kernelspec": {
   "display_name": "Python 3",
   "language": "python",
   "name": "python3"
  },
  "language_info": {
   "codemirror_mode": {
    "name": "ipython",
    "version": 3
   },
   "file_extension": ".py",
   "mimetype": "text/x-python",
   "name": "python",
   "nbconvert_exporter": "python",
   "pygments_lexer": "ipython3",
   "version": "3.8.5"
  }
 },
 "nbformat": 4,
 "nbformat_minor": 2
}
