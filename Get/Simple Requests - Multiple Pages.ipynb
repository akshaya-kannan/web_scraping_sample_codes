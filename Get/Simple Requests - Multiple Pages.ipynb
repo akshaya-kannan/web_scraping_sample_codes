{
 "cells": [
  {
   "cell_type": "markdown",
   "metadata": {},
   "source": [
    "### Import the required packages"
   ]
  },
  {
   "cell_type": "code",
   "execution_count": null,
   "metadata": {},
   "outputs": [],
   "source": [
    "import requests\n",
    "import pandas as pd\n",
    "from lxml import html\n",
    "import string"
   ]
  },
  {
   "cell_type": "markdown",
   "metadata": {},
   "source": [
    "### Get the list of all uppercase alphabets"
   ]
  },
  {
   "cell_type": "code",
   "execution_count": null,
   "metadata": {},
   "outputs": [],
   "source": [
    "list_1=list(string.ascii_uppercase)"
   ]
  },
  {
   "cell_type": "markdown",
   "metadata": {},
   "source": [
    "### Iterate 6 times over the list to get all the pages for a given alphabet"
   ]
  },
  {
   "cell_type": "code",
   "execution_count": null,
   "metadata": {},
   "outputs": [],
   "source": [
    "for i in list_1:\n",
    "    for j in range(1,6):\n",
    "        url='https://www.ccab.org.br/en/member?letra={}&page={}'.format(i,j)\n",
    "        response=requests.get(url)\n",
    "    \n",
    "        # Get the Document tree from the response variable\n",
    "        tree=html.fromstring(response.content)\n",
    "        \n",
    "        # Get the row selector using xpath\n",
    "        rows=tree.xpath(\"//div[@class='info']\")\n",
    "        print(rows)\n",
    "        \n",
    "        # Iterate over all the rows that were returned by the selector & extract the required fields\n",
    "        for row in rows:\n",
    "            try:\n",
    "                name=row.xpath(\".//p[@class='title']/text()\")[0]\n",
    "            except:\n",
    "                name=None\n",
    "            print(name) \n",
    "            try:\n",
    "                web=row.xpath(\".//a/@href\")[0]\n",
    "            except:\n",
    "                web=''\n",
    "            print(web)\n",
    "            try:\n",
    "                address=[i.strip() for i in row.xpath(\".//p[2]/text()\")]\n",
    "                address=\" \".join(address)\n",
    "            except:\n",
    "                address=''\n",
    "            print(address) \n",
    "            if (name !=None):\n",
    "                resultDict = {\"chamber_name\" : \"Arab-Brazil Chamber of Commerce\",\n",
    "                    \"country\" : 'Arab/Brazil',\n",
    "                    \"region\" : 'Europe/UAE',\n",
    "                    \"base_url\" : \"https://www.ccab.org.br\",\n",
    "                    \"source_url\" : response.url,\n",
    "                    \"company_website\" : web,\n",
    "                    \"company_contact\" : None,\n",
    "                    \"company_name\" : name,\n",
    "                    \"company_address\" : address,\n",
    "                      \"company_category\":None\n",
    "\n",
    "                       }\n",
    "#                 print(resultDict)\n",
    "                df = pd.DataFrame([resultDict])\n",
    "                \n",
    "                # Write the resulting dataframe to csv file\n",
    "                df.to_csv('arab_brazil.csv', mode='a', header=False)"
   ]
  }
 ],
 "metadata": {
  "kernelspec": {
   "display_name": "Python 3",
   "language": "python",
   "name": "python3"
  },
  "language_info": {
   "codemirror_mode": {
    "name": "ipython",
    "version": 3
   },
   "file_extension": ".py",
   "mimetype": "text/x-python",
   "name": "python",
   "nbconvert_exporter": "python",
   "pygments_lexer": "ipython3",
   "version": "3.8.5"
  }
 },
 "nbformat": 4,
 "nbformat_minor": 2
}
