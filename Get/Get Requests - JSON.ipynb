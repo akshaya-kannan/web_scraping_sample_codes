{
 "cells": [
  {
   "cell_type": "markdown",
   "metadata": {},
   "source": [
    "### Import required packages"
   ]
  },
  {
   "cell_type": "code",
   "execution_count": null,
   "metadata": {},
   "outputs": [],
   "source": [
    "import requests\n",
    "import json\n",
    "import pandas as pd\n",
    "import re"
   ]
  },
  {
   "cell_type": "markdown",
   "metadata": {},
   "source": [
    "### Get the webpage using requests and use json to parse it"
   ]
  },
  {
   "cell_type": "code",
   "execution_count": null,
   "metadata": {},
   "outputs": [],
   "source": [
    "data=requests.get(\"https://www.swedcham.com.br/wp-admin/admin-ajax.php?action=load_members&language=en&list=1\")\n",
    "result = data.json() "
   ]
  },
  {
   "cell_type": "markdown",
   "metadata": {},
   "source": [
    "### Access a sample json object using index"
   ]
  },
  {
   "cell_type": "code",
   "execution_count": null,
   "metadata": {},
   "outputs": [],
   "source": [
    "(result['data'][5])"
   ]
  },
  {
   "cell_type": "markdown",
   "metadata": {},
   "source": [
    "### Extract the required fields using index in Json object"
   ]
  },
  {
   "cell_type": "code",
   "execution_count": null,
   "metadata": {},
   "outputs": [],
   "source": [
    "for i in range(0,180):\n",
    "#     print(result['data'][i]['city'])\n",
    "    try:\n",
    "        name=result['data'][i]['company_name']\n",
    "    except:\n",
    "        name=''\n",
    "#     print(name)\n",
    "    try:\n",
    "        web=result['data'][i]['website']\n",
    "    except:\n",
    "        web=''\n",
    "#     print(web)\n",
    "    try:\n",
    "        state_name=result['data'][i]['state_name']\n",
    "    except:\n",
    "        state_name=''\n",
    "#     print(state_name)\n",
    "    try:\n",
    "        city=result['data'][i]['city']\n",
    "    except:\n",
    "        city=''\n",
    "#     print(city)\n",
    "    try:\n",
    "        country=result['data'][i]['country_name']\n",
    "    except:\n",
    "        country=''\n",
    "#     print(country)\n",
    "    address='{},{}'.format(city,country)\n",
    "    address=address.replace(',,',',')\n",
    "    print(address)\n",
    "    resultDict = {\"chamber_name\" : \"Swedish-Brazilian Chamber of Commerce\",\n",
    "                \"country\" : country,\n",
    "                \"region\" : 'Europe',\n",
    "                \"base_url\" : \"https://www.swedcham.com.br\",\n",
    "                \"source_url\" : \"https://www.swedcham.com.br/en/about-us/our-members/\",\n",
    "                \"company_website\" : web,\n",
    "                \"company_contact\" : None,\n",
    "                \"company_name\" : name,\n",
    "                \"company_address\" : address,\n",
    "                  \"company_category\":None\n",
    "               \n",
    "                   }\n",
    "#     print(resultDict)\n",
    "    df = pd.DataFrame([resultDict])\n",
    "    \n",
    "    ### Convert to csv\n",
    "    df.to_csv('swedcham.csv', mode='a', header=False)\n"
   ]
  }
 ],
 "metadata": {
  "kernelspec": {
   "display_name": "Python 3",
   "language": "python",
   "name": "python3"
  },
  "language_info": {
   "codemirror_mode": {
    "name": "ipython",
    "version": 3
   },
   "file_extension": ".py",
   "mimetype": "text/x-python",
   "name": "python",
   "nbconvert_exporter": "python",
   "pygments_lexer": "ipython3",
   "version": "3.8.5"
  }
 },
 "nbformat": 4,
 "nbformat_minor": 2
}
